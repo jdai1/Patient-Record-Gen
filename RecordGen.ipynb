{
 "cells": [
  {
   "cell_type": "code",
   "execution_count": 1,
   "metadata": {},
   "outputs": [
    {
     "data": {
      "text/plain": [
       "'1.17.1'"
      ]
     },
     "execution_count": 1,
     "metadata": {},
     "output_type": "execute_result"
    }
   ],
   "source": [
    "import pandas as pd\n",
    "import reportlab\n",
    "import numpy as np\n",
    "import pyreadstat\n",
    "np.__version__"
   ]
  },
  {
   "cell_type": "code",
   "execution_count": 2,
   "metadata": {},
   "outputs": [],
   "source": [
    "from reportlab.lib import colors\n",
    "from reportlab.platypus import Table, TableStyle, Paragraph, Spacer, BaseDocTemplate, Frame, PageTemplate, NextPageTemplate, PageBreak, Image\n",
    "from reportlab.lib.styles import ParagraphStyle\n",
    "from reportlab.lib.styles import getSampleStyleSheet\n",
    "from reportlab.lib.pagesizes import letter\n",
    "from reportlab.pdfgen import canvas\n",
    "from reportlab.lib.units import inch, cm"
   ]
  },
  {
   "cell_type": "code",
   "execution_count": 3,
   "metadata": {},
   "outputs": [],
   "source": [
    "# DATA EXTRACTION"
   ]
  },
  {
   "cell_type": "code",
   "execution_count": 4,
   "metadata": {},
   "outputs": [],
   "source": [
    "input_file_path = '/Users/Julian/Documents/Github/Patient-Record-Gen/Input/SourceData/'\n",
    "input_dm = input_file_path + r'demo.sas7bdat'\n",
    "input_pe = input_file_path + r'pege.sas7bdat'\n",
    "input_ae = input_file_path + r'advevnts.sas7bdat'\n",
    "input_ds = input_file_path + r'conmeds.sas7bdat'"
   ]
  },
  {
   "cell_type": "code",
   "execution_count": 5,
   "metadata": {},
   "outputs": [],
   "source": [
    "# meta data\n",
    "dm_meta = pyreadstat.read_sas7bdat(input_dm)\n",
    "pe_meta = pyreadstat.read_sas7bdat(input_pe)\n",
    "ae_meta = pyreadstat.read_sas7bdat(input_ae)\n",
    "ds_meta = pyreadstat.read_sas7bdat(input_ds)"
   ]
  },
  {
   "cell_type": "code",
   "execution_count": 6,
   "metadata": {},
   "outputs": [],
   "source": [
    "# meta data manipulation to access column values\n",
    "dm_dict = dict()\n",
    "for i in range(0, len(dm_meta[1].variable_measure.keys())):\n",
    "    oid = list(dm_meta[1].variable_measure.keys())[i]\n",
    "    label = dm_meta[1].column_labels[i]\n",
    "    dm_dict[oid] = label\n",
    "    \n",
    "pe_dict = dict()\n",
    "for i in range(0, len(pe_meta[1].variable_measure.keys())):\n",
    "    oid = list(pe_meta[1].variable_measure.keys())[i]\n",
    "    label = pe_meta[1].column_labels[i]\n",
    "    pe_dict[oid] = label\n",
    "\n",
    "ae_dict = dict()\n",
    "for i in range(0, len(ae_meta[1].variable_measure.keys())):\n",
    "    oid = list(ae_meta[1].variable_measure.keys())[i]\n",
    "    label = ae_meta[1].column_labels[i]\n",
    "    ae_dict[oid] = label\n",
    "ds_dict = dict()\n",
    "for i in range(0, len(ds_meta[1].variable_measure.keys())):\n",
    "    oid = list(ds_meta[1].variable_measure.keys())[i]\n",
    "    label = ds_meta[1].column_labels[i]\n",
    "    ds_dict[oid] = label"
   ]
  },
  {
   "cell_type": "code",
   "execution_count": 7,
   "metadata": {},
   "outputs": [],
   "source": [
    "# use pandas directly to extract data from sas7bdat files\n",
    "dm = pd.read_sas(input_dm, format='sas7bdat', encoding='latin-1')\n",
    "pe = pd.read_sas(input_pe, format='sas7bdat', encoding='latin-1')\n",
    "ae = pd.read_sas(input_ae, format='sas7bdat', encoding='latin-1')\n",
    "ds = pd.read_sas(input_ds, format='sas7bdat', encoding='latin-1')"
   ]
  },
  {
   "cell_type": "code",
   "execution_count": 8,
   "metadata": {},
   "outputs": [],
   "source": [
    "pd.set_option(\"display.max_rows\", None, \"display.max_columns\", None)"
   ]
  },
  {
   "cell_type": "code",
   "execution_count": 9,
   "metadata": {},
   "outputs": [
    {
     "data": {
      "text/plain": [
       "(22, 16)"
      ]
     },
     "execution_count": 9,
     "metadata": {},
     "output_type": "execute_result"
    }
   ],
   "source": [
    "dm.shape"
   ]
  },
  {
   "cell_type": "code",
   "execution_count": 10,
   "metadata": {},
   "outputs": [
    {
     "data": {
      "text/plain": [
       "(44, 14)"
      ]
     },
     "execution_count": 10,
     "metadata": {},
     "output_type": "execute_result"
    }
   ],
   "source": [
    "pe.shape"
   ]
  },
  {
   "cell_type": "code",
   "execution_count": 11,
   "metadata": {},
   "outputs": [
    {
     "data": {
      "text/plain": [
       "(35, 34)"
      ]
     },
     "execution_count": 11,
     "metadata": {},
     "output_type": "execute_result"
    }
   ],
   "source": [
    "ae.shape"
   ]
  },
  {
   "cell_type": "code",
   "execution_count": 12,
   "metadata": {},
   "outputs": [
    {
     "data": {
      "text/plain": [
       "(126, 8)"
      ]
     },
     "execution_count": 12,
     "metadata": {},
     "output_type": "execute_result"
    }
   ],
   "source": [
    "ds.shape"
   ]
  },
  {
   "cell_type": "code",
   "execution_count": 13,
   "metadata": {},
   "outputs": [
    {
     "data": {
      "text/plain": [
       "1.0"
      ]
     },
     "execution_count": 13,
     "metadata": {},
     "output_type": "execute_result"
    }
   ],
   "source": [
    "subj_id = 1.0\n",
    "site_num = dm[dm['SUBJID'] == subj_id].iloc[0]['SITE']\n",
    "site_num"
   ]
  },
  {
   "cell_type": "code",
   "execution_count": 14,
   "metadata": {},
   "outputs": [],
   "source": [
    "import math"
   ]
  },
  {
   "cell_type": "code",
   "execution_count": 15,
   "metadata": {},
   "outputs": [],
   "source": [
    "# BASIC INFORMATION DATA MANIPULATION\n",
    "# Example data manipulation and concatenation. This data is not shown on the output.pdf"
   ]
  },
  {
   "cell_type": "code",
   "execution_count": 16,
   "metadata": {},
   "outputs": [
    {
     "name": "stderr",
     "output_type": "stream",
     "text": [
      "/Library/Frameworks/Python.framework/Versions/3.7/lib/python3.7/site-packages/pandas/core/frame.py:4133: SettingWithCopyWarning: \n",
      "A value is trying to be set on a copy of a slice from a DataFrame\n",
      "\n",
      "See the caveats in the documentation: https://pandas.pydata.org/pandas-docs/stable/user_guide/indexing.html#returning-a-view-versus-a-copy\n",
      "  errors=errors,\n"
     ]
    }
   ],
   "source": [
    "subj_dm = dm[dm['SUBJID'] == subj_id]\n",
    "dm_data = subj_dm[['DOB', 'SEX', 'RACE', 'RACESP', 'PRDIAG', 'WGT', 'HGT']]\n",
    "dm_data.rename(columns={'DOB':'Date of Birth:', 'SEX':'Sex:', 'PRDIAG':'Pre-Diagnosis:', 'WGT':'Weight:', 'HGT':'Height:'}, inplace=True)\n",
    "dm_data = dm_data.iloc[0].to_frame().T\n",
    "if (math.isnan(dm_data['RACESP'])):\n",
    "     dm_data['Race (Specify if other):'] = dm_data['RACE']\n",
    "else:\n",
    "    dm_data['Race (Specify if other):'] = dm_data['RACESP']\n",
    "    \n",
    "dm_data = dm_data[['Date of Birth:', 'Sex:', 'Race (Specify if other):', 'Pre-Diagnosis:', 'Weight:', 'Height:']]\n",
    "dm_table = dm_data.iloc[0].to_frame()\n",
    "dm_table.reset_index(inplace=True)\n",
    "# rename columns to allow them to be cocatenated together\n",
    "dm_table.rename(columns={'index':'Key', 0:'Value'}, inplace=True)"
   ]
  },
  {
   "cell_type": "code",
   "execution_count": 17,
   "metadata": {},
   "outputs": [],
   "source": [
    "subj_ds = ds[ds['SUBJID'] == subj_id]\n",
    "ds_data = subj_ds[['MEDNAME', 'STARTDT', 'ENDDT', 'INDIC', 'ROUTE', 'ONGOING']]\n",
    "ds_data = ds_data.iloc[0].to_frame().T\n",
    "ds_data.rename(columns={'MEDNAME':'Medicine Name:', 'STARTDT':'Start Date:', 'ENDDT':'End Date:', \n",
    "                        'INDIC':'Indicated:', 'ROUTE':'Route:', 'ONGOING':'Ongoing'}, inplace=True)\n",
    "ds_data.reset_index(drop=True, inplace=True)\n",
    "# fix this\n",
    "ds_table = ds_data.loc[0].to_frame()\n",
    "ds_table.reset_index(inplace=True)\n",
    "# rename columns to allow them to be cocatenated together\n",
    "ds_table.rename(columns={'index':'Key', 0:'Value'}, inplace=True)"
   ]
  },
  {
   "cell_type": "code",
   "execution_count": 18,
   "metadata": {},
   "outputs": [],
   "source": [
    "subj_pe = pe[pe['SUBJID'] == subj_id]\n",
    "pe_data = subj_pe.iloc[0].to_frame().T\n",
    "pe_data = pe_data[['PE1', 'PE2', 'PE3', 'PE4', 'BP_SYS', 'BP_DIA', 'PULSE', 'RESPRATE']]\n",
    "pe_data['Blood pressure:'] = pe_data['BP_SYS'] + '/' + pe_data['BP_DIA']\n",
    "pe_data.rename(columns={'PE1':'Physical Exam 1:', 'PE2':'Physical Exam 2:', 'PE3':'Physical Exam 3:', 'PE4':'Physical Exam 4:',\n",
    "                        'PULSE':'Pulse:', 'RESPRATE':'Respiratory rate:'}, inplace=True)\n",
    "\n",
    "\n",
    "\n",
    "pe_data = pe_data[['Physical Exam 1:','Physical Exam 2:', 'Physical Exam 3:', 'Physical Exam 4:', \n",
    "                  'Pulse:', 'Respiratory rate:', 'Blood pressure:']]\n",
    "\n",
    "pe_data.reset_index(drop=True, inplace=True)\n",
    "# convert to table\n",
    "pe_table = pe_data.iloc[0].to_frame()\n",
    "pe_table.reset_index(inplace=True)\n",
    "# rename columns to allow them to be cocatenated together\n",
    "pe_table.rename(columns={'index':'Key', 0:'Value'}, inplace=True)"
   ]
  },
  {
   "cell_type": "code",
   "execution_count": 19,
   "metadata": {},
   "outputs": [],
   "source": [
    "# adds paragraph objects to the values of the dataframe\n",
    "def makeFlowable(table):\n",
    "    # allows autowrapping --> input the data as report lab flowables instead of simple text\n",
    "    # prevents aliasing\n",
    "    labelStyle = ParagraphStyle('Normal',\n",
    "                                fontSize=10,\n",
    "                                fontName='Times-Roman',\n",
    "                                textColor=colors.slategrey)\n",
    "                                \n",
    "    dataStyle = ParagraphStyle('Normal',\n",
    "                                fontSize=10,\n",
    "                                fontName='Times-Roman',\n",
    "                                textColor=colors.black\n",
    "                                )\n",
    "    flowable = table.copy(deep=True)\n",
    "    for c in range(0, table.shape[1]):\n",
    "        for r in range(0, table.shape[0]):\n",
    "            # replace each value in the dataframe with a reportlab Paragraph containing its contents\n",
    "            if c % 2 == 0:\n",
    "                flowable.iloc[r, c] = Paragraph(flowable.iloc[r, c], labelStyle)\n",
    "            elif c % 2 == 1:\n",
    "                flowable.iloc[r, c] = Paragraph(flowable.iloc[r, c], dataStyle)\n",
    "    return flowable"
   ]
  },
  {
   "cell_type": "code",
   "execution_count": 20,
   "metadata": {},
   "outputs": [],
   "source": [
    "# convert the extracted data into Paragraph objects to allow autowrapping \n",
    "dm_flowable = makeFlowable(dm_table.astype(str))\n",
    "tr_flowable = makeFlowable(ds_table.astype(str))\n",
    "ds_flowable = makeFlowable(pe_table.astype(str))\n",
    "\n",
    "dmdspe_table = pd.concat([dm_flowable, tr_flowable, ds_flowable], axis=1)\n",
    "labels = pd.DataFrame([['1 - BASIC INFORMATION', '', '', '', '', ''], ['Demography', '','Disposition', '', 'Physical Exam', '']], \n",
    "                              columns=['Key', 'Value', 'Key', 'Value', 'Key', 'Value'])\n",
    "dmdspe_table = labels.append(dmdspe_table)\n",
    "dmdspe_table = dmdspe_table.replace(np.nan, '', regex=True)\n",
    "dmdspe_table.reset_index(drop=True, inplace=True)"
   ]
  },
  {
   "cell_type": "code",
   "execution_count": 21,
   "metadata": {},
   "outputs": [],
   "source": [
    "# ADVERSE EVENT DATA MANIPULATION\n",
    "# Data manipulation of adverse events which are shown on the output.pdf"
   ]
  },
  {
   "cell_type": "code",
   "execution_count": 22,
   "metadata": {},
   "outputs": [],
   "source": [
    "subj_ae = ae[ae['SUBJID'] == subj_id]\n",
    "ae_data = subj_ae[['AE_1', 'SAE_1', 'STRTDT_1', 'STOPDT_1', 'ONGO_1', 'SEV_1', 'REL_1', 'OUTC_1', 'AE_2', 'SAE_2', \n",
    "                   'STRTDT_2', 'STOPDT_2', 'ONGO_2', 'SEV_2', 'REL_2', 'OUTC_2']]\n",
    "ae_data.rename(columns={'AE_1':'Adverse Event 1:', 'SAE_1':'Serious AE 1:', 'STRTDT_1':'Start Date:', 'STOPDT_1':'Stop Date:', \n",
    "                        'ONGO_1':'Ongoing:', 'SEV_1':'Severity:', 'REL_1':'Relationship:', 'OUTC_1':'Outcome:', 'AE_2':'Adverse Event 2:', \n",
    "                        'SAE_2':'Serious AE 2:', 'STRTDT_2':'Start Date:', 'STOPDT_2':'Stop Date:', 'ONGO_2':'Ongoing:',\n",
    "                        'SEV_2':'Severity', 'REL_2':'Relationship', 'OUTC_2':'Outcome'}, inplace=True)\n",
    "\n",
    "ae_data.reset_index(drop=True, inplace=True)\n",
    "# create a list of dataframes to encompass several different adversity events\n",
    "ae_data_list = []\n",
    "for i in range(0, ae_data.shape[0]):\n",
    "    specific_ae_event = ae_data.iloc[i].to_frame()\n",
    "    specific_ae_event.reset_index(inplace=True)\n",
    "    #specific_ae_event.rename(columns={'index':'Key', 0:'Value'}, inplace=True)\n",
    "    \n",
    "    # restructure df to fit into pdf\n",
    "    event_df = specific_ae_event.iloc[:8]\n",
    "    event_df.reset_index(drop=True, inplace=True)\n",
    "    state_df = specific_ae_event.iloc[8:]\n",
    "    state_df.reset_index(drop=True, inplace=True)\n",
    "    specific_ae_event_df = pd.concat([event_df, state_df], axis=1)\n",
    "    specific_ae_event_df.columns = ['Key', 'Value', 'Key', 'Value']\n",
    "    \n",
    "    ae_data_list.append(specific_ae_event_df)"
   ]
  },
  {
   "cell_type": "code",
   "execution_count": 23,
   "metadata": {},
   "outputs": [],
   "source": [
    "# create a list of tables as input into the table\n",
    "ae_table_list = []\n",
    "i = 1\n",
    "for ae_df in ae_data_list:\n",
    "    ae_flowable = makeFlowable(ae_df.astype(str))\n",
    "    labels = pd.DataFrame([['AE (' + str(i) + ')', '', '', ''], ['Event', '','State', '']], \n",
    "                                  columns=['Key', 'Value', 'Key', 'Value'])\n",
    "    ae_table = labels.append(ae_flowable)\n",
    "    ae_table = ae_table.replace(np.nan, '', regex=True)\n",
    "    ae_table.reset_index(drop=True, inplace=True)\n",
    "    ae_table_list.append(ae_table)\n",
    "    i += 1"
   ]
  },
  {
   "cell_type": "code",
   "execution_count": 24,
   "metadata": {},
   "outputs": [],
   "source": [
    "# returns the numerical value of the length of the longest word in a given column of data which\n",
    "# represents the space it would take up in the pdf\n",
    "def findColumnWidth(data):\n",
    "    columnWidths = []\n",
    "    # a little sloppy here due to creation of extra pdf, but I don't see another way around finding\n",
    "    # length of a word in the pdf\n",
    "    c = canvas.Canvas('tester.pdf')\n",
    "    for paragraph in data:\n",
    "        if paragraph != '':\n",
    "            columnWidths.append(c.stringWidth(paragraph.getPlainText(), 'Times-Roman', 10))\n",
    "    width = 0\n",
    "    for w in columnWidths:\n",
    "        if w > width:\n",
    "            width = w\n",
    "    return width"
   ]
  },
  {
   "cell_type": "code",
   "execution_count": 25,
   "metadata": {},
   "outputs": [],
   "source": [
    "# list of the list of column widths for each adversity event table in ae_table_list\n",
    "aelColumnWidths = []\n",
    "for ael_table in ae_table_list:\n",
    "    ael_data = ael_table.iloc[2:]\n",
    "    aeColumnWidths = []\n",
    "    for i in range(0, ael_data.shape[1]):\n",
    "        l = ael_data.iloc[:, i].tolist()\n",
    "        aeColumnWidths.append(findColumnWidth(l) + 25)\n",
    "    aelColumnWidths.append(aeColumnWidths)"
   ]
  },
  {
   "cell_type": "code",
   "execution_count": 26,
   "metadata": {},
   "outputs": [],
   "source": [
    "# column widths match the order andd identity of the tables that are placed into the pdf in df_list\n",
    "columnWidths = []\n",
    "for colWidth in aelColumnWidths:\n",
    "    columnWidths.append(colWidth)"
   ]
  },
  {
   "cell_type": "code",
   "execution_count": 27,
   "metadata": {},
   "outputs": [
    {
     "data": {
      "text/plain": [
       "18"
      ]
     },
     "execution_count": 27,
     "metadata": {},
     "output_type": "execute_result"
    }
   ],
   "source": [
    "# input\n",
    "#--> autowrapping example\n",
    "#df_list = [dmdspe_flowable] \n",
    "df_list = []\n",
    "for table in ae_table_list:\n",
    "    df_list.append(table)\n",
    "len(df_list)"
   ]
  },
  {
   "cell_type": "code",
   "execution_count": 28,
   "metadata": {},
   "outputs": [],
   "source": [
    "# report lab pdf generation\n",
    "#\n",
    "#"
   ]
  },
  {
   "cell_type": "code",
   "execution_count": 29,
   "metadata": {},
   "outputs": [
    {
     "data": {
      "text/plain": [
       "792.0"
      ]
     },
     "execution_count": 29,
     "metadata": {},
     "output_type": "execute_result"
    }
   ],
   "source": [
    "# base doc template is more customizable than simple doc template, which provides a set template and frame layout\n",
    "# the margins define the area of the pdf that can be written on while the pagesize defines the actual size of the pdf\n",
    "doc = BaseDocTemplate(\"/Users/Julian/Documents/GitHub/Patient-Record-Gen/Output/output.pdf\", \n",
    "                      topMargin=1*inch, bottomMargin=1*inch, rightMargin=0.2*inch, leftMargin=0.2*inch, \n",
    "                      pagesize= (15*inch, 13*inch))\n",
    "\n",
    "# the frame defines an area that flowables such as tables can be added to\n",
    "frame = Frame(doc.leftMargin, doc.bottomMargin, doc.rightMargin, doc.height - 1*inch, id='data')\n",
    "doc.height"
   ]
  },
  {
   "cell_type": "code",
   "execution_count": 30,
   "metadata": {},
   "outputs": [],
   "source": [
    "background_color = colors.slategrey\n",
    "header_color = colors.black\n",
    "\n",
    "element = []\n",
    "\n",
    "# adding the page template 'report' to the doc\n",
    "element.append(NextPageTemplate('report'))\n",
    "\n",
    "available_height = frame.height\n",
    "\n",
    "table_style = TableStyle([\n",
    "                        # merge top row to form label\n",
    "                        ('SPAN', (0, 0), (-1, 0)),\n",
    "                        #padding for all boxes for readability\n",
    "                        ('RIGHTPADDING', (0, 0), (-1, -1), 15),\n",
    "                        ('LEFTPADDING', (0, 0), (-1, -1), 6),\n",
    "                        ('TOPPADDING', (0, 0), (-1, -1), 6),\n",
    "                        ('BOTTOMPADDING', (0, 0), (-1, -1), 5),\n",
    "                        \n",
    "                        #background colors\n",
    "                        ('BACKGROUND', (0, 1), (-1, 1), background_color),\n",
    "    \n",
    "    \n",
    "                        #fonts\n",
    "                        ('FONT', (0, 0), (0, 0), 'Times-Roman', 11.5),\n",
    "                        ('FONT', (0, 1), (-1, 1), 'Times-Roman', 11),\n",
    "\n",
    "                        #textcolors\n",
    "                        ('TEXTCOLOR', (0, 0), (0, 0), header_color),\n",
    "                        ('TEXTCOLOR', (0, 1), (-1, 1), colors.white),\n",
    "    \n",
    "    \n",
    "                        #grid\n",
    "                        ('INNERGRID', (0,0), (-1,-1), 1, colors.black), \n",
    "                        ('BOX', (0,0), (-1,-1), 1, colors.black)])\n",
    "\n",
    "table_style_bot = TableStyle([\n",
    "                        #padding for all boxes for readability\n",
    "                        ('RIGHTPADDING', (0, 0), (-1, -1), 15),\n",
    "                        ('LEFTPADDING', (0, 0), (-1, -1), 6),\n",
    "                        ('TOPPADDING', (0, 0), (-1, -1), 6),\n",
    "                        ('BOTTOMPADDING', (0, 0), (-1, -1), 5),\n",
    "                        \n",
    "                        #background colors\n",
    "                        ('BACKGROUND', (0, 0), (-1, 0), background_color),\n",
    "    \n",
    "                        #fonts\n",
    "                        ('FONT', (0, 0), (-1, 0), 'Times-Roman', 11),\n",
    "    \n",
    "                        #textcolors\n",
    "                        ('TEXTCOLOR', (0, 0), (-1, 0), colors.white),\n",
    "    \n",
    "                        #grid\n",
    "                        ('INNERGRID', (0,0), (-1,-1), 1, colors.black), \n",
    "                        ('BOX', (0,0), (-1,-1), 1, colors.black)])\n",
    "\n",
    "# create specific labels by merging boxes and setting text colors\n",
    "# use foreloop because each table will likely vary in size\n",
    "def setTableStyle(nparray, table):\n",
    "    for i in range(nparray.shape[1]):\n",
    "        if i % 2 == 0:\n",
    "            table.setStyle(TableStyle([('SPAN', (i, 1), (i + 1, 1))]))\n",
    "\n",
    "# used in the case that a table is split across two pages. Since that table slightly varies,\n",
    "# a new function must be created to filter it\n",
    "def setTableStyleBot(nparray, table):\n",
    "    for i in range(nparray.shape[1]):\n",
    "        if i % 2 == 0:\n",
    "            table.setStyle(TableStyle([('SPAN', (i, 0), (i + 1, 0))]))  \n",
    "index = 0\n",
    "spacer = 0.5*inch\n",
    "numPages = 1\n",
    "\n",
    "for df in df_list:\n",
    "    # example of adding image in between tables\n",
    "    #image = Image(\"/Users/Julian/Documents/CompSci/Numedi-Internship/2020/PatientRecordGen/Input/disney.png\")\n",
    "    #image.hAlign = 'LEFT'\n",
    "    #element.append(image)\n",
    "    #available_height -= image.wrap(0, available_height)[1]\n",
    "    \n",
    "    nparray = np.array(df)\n",
    "    table = Table(nparray.tolist(), columnWidths[index])\n",
    "    table.hAlign = 'LEFT'\n",
    "    # general style\n",
    "    setTableStyle(nparray, table)\n",
    "    # specific style that vary from each table\n",
    "    table.setStyle(table_style)\n",
    "    table_height = table.wrap(0, available_height)[1]\n",
    "    \n",
    "    npheader = np.array(df.iloc[0:3])\n",
    "    header_table = Table(npheader.tolist(), columnWidths[index][0:3])\n",
    "    \n",
    "    if available_height <= header_table.wrap(0, available_height)[1]:\n",
    "        #print(1)\n",
    "        # go to new page if there is not enough space for a single row of data\n",
    "        available_height = frame.height\n",
    "        element.append(PageBreak())\n",
    "        numPages += 1\n",
    "\n",
    "    elif (table_height <= available_height):\n",
    "        #print(2)\n",
    "        element.append(table)\n",
    "        element.append(Spacer(0, spacer))\n",
    "        available_height = available_height - table_height - spacer\n",
    "        \n",
    "    else:\n",
    "        table_add = False\n",
    "        #print(3)\n",
    "        # loop through number of rows starting from last and do wrap until the table height is <=\n",
    "        # individual height. then separate rows from there and reconstruct table in separate pages\n",
    "        for i in range(1, nparray.shape[0] - 1):\n",
    "            # top dataframe\n",
    "            df1 = df.iloc[0:nparray.shape[0] - i]\n",
    "            df1.reset_index(drop=True, inplace=True)\n",
    "            nparray1 = np.array(df1)\n",
    "            table1 = Table(nparray1.tolist(), columnWidths[index])\n",
    "            table1.hAlign = 'LEFT'\n",
    "            \n",
    "            setTableStyle(nparray1, table1)\n",
    "            table1.setStyle(table_style)\n",
    "            \n",
    "            # extract labels from first df and transpose it to be concatenated on the other df\n",
    "            labels = df1.loc[1].to_frame()\n",
    "            labels = labels.T\n",
    "        \n",
    "            # bottom dataframe\n",
    "            df2 = df.iloc[nparray.shape[0] - i:nparray.shape[0]]\n",
    "            df2.reset_index(drop=True, inplace=True)\n",
    "            df2 = pd.concat([labels, df2])\n",
    "            nparray2 = np.array(df2)\n",
    "            table2 = Table(nparray2.tolist(), columnWidths[index])\n",
    "            table2.hAlign = 'LEFT'\n",
    "            \n",
    "            setTableStyleBot(nparray2, table2)\n",
    "            table2.setStyle(table_style_bot)\n",
    "            \n",
    "            # if the top dataframe will fit in the remaining space, add it to the pdf\n",
    "            # then add the bottom df to a new page\n",
    "            if (table1.wrap(0, available_height)[1] < available_height - 23):\n",
    "                table_add = True\n",
    "                element.append(table1)\n",
    "                element.append(PageBreak())\n",
    "                numPages += 1\n",
    "                element.append(table2)\n",
    "                element.append(Spacer(0, spacer))\n",
    "                available_height = frame.height - table2.wrap(0, available_height)[1] - spacer\n",
    "                break\n",
    "        # fail safe: if for any reason, the table is not split between 2 pages, add the table to a new page\n",
    "        if not table_add:\n",
    "            element.append(PageBreak())\n",
    "            element.append(table)\n",
    "            element.append(Spacer(0, spacer))\n",
    "            available_height = frame.height - table.wrap(0, available_height)[1] - spacer\n",
    "    index += 1"
   ]
  },
  {
   "cell_type": "code",
   "execution_count": 31,
   "metadata": {},
   "outputs": [
    {
     "data": {
      "text/plain": [
       "\"\\nClarifications on using the x-y coordinates to adjust elements on the pdf:\\n\\ndoc is defined with topMargin=1*inch, bottomMargin=1*inch, rightMargin=0.2*inch, leftMargin=0.2*inch, pagesize= (15*inch, 13*inch)\\n\\nTo align with the doc margins, the frame in which data is appended to, uses the same left, right, and bottom margins\\nas the doc. The frame's top margin is 0.75 inches lower than the top margin of the doc to allow space for the patient name\\n\\ndoc.height and doc.width describe the space within the margins of the doc. Therefore, for example, to find the total\\nwidth of the pdf, add doc.width to doc.leftMargin and doc.rightMargin. These values are represetned as floats, so\\naddition applies to them.\\n\\nOn a canvas, (0, 0) represents the lower left hand corner. To place an element at the right hand side of the page, \\nthe x value should be close to doc.width. To place an element at the top of the page, the y value should be close to\\ndoc.height. \\n\\n\""
      ]
     },
     "execution_count": 31,
     "metadata": {},
     "output_type": "execute_result"
    }
   ],
   "source": [
    "\"\"\"\n",
    "Clarifications on using the x-y coordinates to adjust elements on the pdf:\n",
    "\n",
    "doc is defined with topMargin=1*inch, bottomMargin=1*inch, rightMargin=0.2*inch, leftMargin=0.2*inch, pagesize= (15*inch, 13*inch)\n",
    "\n",
    "To align with the doc margins, the frame in which data is appended to, uses the same left, right, and bottom margins\n",
    "as the doc. The frame's top margin is 0.75 inches lower than the top margin of the doc to allow space for the patient name\n",
    "\n",
    "doc.height and doc.width describe the space within the margins of the doc. Therefore, for example, to find the total\n",
    "width of the pdf, add doc.width to doc.leftMargin and doc.rightMargin. These values are represetned as floats, so\n",
    "addition applies to them.\n",
    "\n",
    "On a canvas, (0, 0) represents the lower left hand corner. To place an element at the right hand side of the page, \n",
    "the x value should be close to doc.width. To place an element at the top of the page, the y value should be close to\n",
    "doc.height. \n",
    "\n",
    "\"\"\"\n"
   ]
  },
  {
   "cell_type": "code",
   "execution_count": 32,
   "metadata": {},
   "outputs": [],
   "source": [
    "# the header function receives the canvas and the doc as parameters\n",
    "# this code is very similar to your version of the myheader function, with the exception of a few minor changes\n",
    "def header(canvas, doc):\n",
    "    canvas.saveState()\n",
    "    logo = \"/Users/Julian/Documents/GitHub/Patient-Record-Gen/Input/gnu.png\"\n",
    "    horizon_mgin = 20\n",
    "    canvas.setLineWidth(.5)\n",
    "    canvas.line(horizon_mgin, doc.height + doc.bottomMargin - 50, horizon_mgin + 100, doc.height + doc.bottomMargin - 50)\n",
    "\n",
    "    \n",
    "    # left side of header\n",
    "    left_mgin = horizon_mgin\n",
    "    \n",
    "    # x-y coordinates of the logo, starting from the lower left hand corner\n",
    "    # The logo's size is changed by changing its width. The heigh will resize to preserve the ratio of the png\n",
    "    canvas.drawImage(logo, horizon_mgin, doc.bottomMargin + doc.height - 5, width=0.6*inch, preserveAspectRatio=True)\n",
    "    \n",
    "    canvas.setFont('Times-Roman', 10.5)\n",
    "    canvas.drawString(left_mgin, doc.height + doc.bottomMargin, \"Numedi\" )\n",
    "    canvas.drawString(left_mgin, doc.height + doc.bottomMargin - 15, \"Protocol Dream State\")\n",
    "    canvas.drawString(left_mgin, doc.height + doc.bottomMargin - 30, \"Patient %s %s\" % (subj_id, site_num))\n",
    "    \n",
    "    # right side of header\n",
    "    right_mgin = doc.width + doc.leftMargin + doc.rightMargin - horizon_mgin\n",
    "    canvas.drawRightString(right_mgin, doc.height + doc.bottomMargin, \"Page %d of %d\" % (doc.page, numPages))\n",
    "    canvas.setFont('Times-Italic', 10.5)\n",
    "    canvas.drawRightString(right_mgin, doc.height + doc.bottomMargin - 15, \"Confidential\")\n",
    "    \n",
    "    canvas.setFont('Courier-Bold', 12)\n",
    "    canvas.drawString(horizon_mgin, doc.height + doc.bottomMargin - 45, \"Adverse Events\")\n",
    "    \n",
    "    canvas.restoreState()"
   ]
  },
  {
   "cell_type": "code",
   "execution_count": 33,
   "metadata": {},
   "outputs": [],
   "source": [
    "# the frame is then added to a page template which is in turn added to the doc itself\n",
    "template = PageTemplate(id='report', frames=frame, onPage=header)\n",
    "doc.addPageTemplates([template])"
   ]
  },
  {
   "cell_type": "code",
   "execution_count": 34,
   "metadata": {},
   "outputs": [
    {
     "data": {
      "text/plain": [
       "40"
      ]
     },
     "execution_count": 34,
     "metadata": {},
     "output_type": "execute_result"
    }
   ],
   "source": [
    "len(element)"
   ]
  },
  {
   "cell_type": "code",
   "execution_count": 35,
   "metadata": {},
   "outputs": [],
   "source": [
    "# supply the formatted tables into the doc\n",
    "doc.build(element)"
   ]
  },
  {
   "cell_type": "code",
   "execution_count": null,
   "metadata": {},
   "outputs": [],
   "source": []
  }
 ],
 "metadata": {
  "kernelspec": {
   "display_name": "Python 3",
   "language": "python",
   "name": "python3"
  },
  "language_info": {
   "codemirror_mode": {
    "name": "ipython",
    "version": 3
   },
   "file_extension": ".py",
   "mimetype": "text/x-python",
   "name": "python",
   "nbconvert_exporter": "python",
   "pygments_lexer": "ipython3",
   "version": "3.7.4"
  }
 },
 "nbformat": 4,
 "nbformat_minor": 2
}
